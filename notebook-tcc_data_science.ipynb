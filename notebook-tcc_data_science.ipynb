{
  "nbformat": 4,
  "nbformat_minor": 0,
  "metadata": {
    "colab": {
      "provenance": []
    },
    "kernelspec": {
      "name": "python3",
      "display_name": "Python 3"
    },
    "language_info": {
      "name": "python"
    }
  },
  "cells": [
    {
      "cell_type": "code",
      "execution_count": null,
      "metadata": {
        "id": "kZvwT0GUcY8N"
      },
      "outputs": [],
      "source": [
        "!pip install PyMuPDF\n",
        "\n",
        "import pandas as pd\n",
        "from sklearn.ensemble import RandomForestClassifier\n",
        "from sklearn.model_selection import train_test_split\n",
        "from sklearn.preprocessing import LabelEncoder\n",
        "from sklearn.metrics import accuracy_score\n",
        "from sklearn.tree import plot_tree\n",
        "import numpy as np\n",
        "import matplotlib.pyplot as plt\n",
        "import fitz  # PyMuPDF para leitura de PDFs"
      ]
    },
    {
      "cell_type": "code",
      "source": [
        "# Função para extrair texto de um arquivo PDF\n",
        "def extract_text_from_pdf(pdf_path):\n",
        "    text = \"\"\n",
        "    with fitz.open(pdf_path) as pdf:\n",
        "        for page in pdf:\n",
        "            text += page.get_text()\n",
        "    return text\n",
        "\n",
        "# Função para processar o texto extraído e organizar as informações\n",
        "def process_decision_text(text):\n",
        "    # Inicializar dicionário para armazenar os dados\n",
        "    data = {}\n",
        "\n",
        "    # Extração baseada em palavras-chave\n",
        "    data['Juiz'] = extract_value(text, 'Juiz:')\n",
        "    data['Réu'] = extract_value(text, 'Réu:')\n",
        "    data['Classe Processual'] = extract_value(text, 'Classe Processual:')\n",
        "    data['Comarca'] = extract_value(text, 'Comarca:')\n",
        "    data['Decisão Tomada'] = extract_value(text, 'Decisão:')\n",
        "    data['Pena'] = extract_value(text, 'Pena:')\n",
        "\n",
        "    return data\n",
        "\n",
        "# Função auxiliar para localizar valores no texto com base em palavras-chave\n",
        "def extract_value(text, keyword):\n",
        "    try:\n",
        "        start_idx = text.index(keyword) + len(keyword)\n",
        "        end_idx = text.index('\\n', start_idx)  # Fim da linha\n",
        "        return text[start_idx:end_idx].strip()\n",
        "    except ValueError:\n",
        "        return None\n",
        "\n",
        "# Lista de arquivos PDF\n",
        "pdf_files = [\n",
        "    'doc_55662302.pdf',\n",
        "    'doc_61089526.pdf',\n",
        "    'doc_61406539.pdf',\n",
        "    'doc_95012143.pdf',\n",
        "    'doc_108959255.pdf'\n",
        "]\n",
        "\n",
        "# Lista para armazenar os dados extraídos\n",
        "all_data = []\n",
        "\n",
        "# Processar cada PDF\n",
        "for pdf_file in pdf_files:\n",
        "    text = extract_text_from_pdf(pdf_file)\n",
        "    decision_data = process_decision_text(text)\n",
        "    all_data.append(decision_data)\n",
        "\n",
        "# Criar um DataFrame do pandas\n",
        "df = pd.DataFrame(all_data)\n",
        "\n",
        "# Salvar os dados em um arquivo CSV\n",
        "df.to_csv('decisoes_judiciais.csv', index=False)\n",
        "\n",
        "# Exibir o DataFrame\n",
        "print(df)\n",
        "\n",
        "# Salvar em um arquivo CSV\n",
        "#df.to_csv(\"decisoes_judiciais_extracao_finais.csv\", index=False)"
      ],
      "metadata": {
        "id": "V2s9R7IEnp9K"
      },
      "execution_count": null,
      "outputs": []
    },
    {
      "cell_type": "code",
      "source": [
        "# Carregar o dataset\n",
        "df = pd.read_csv('decisoes_judiciais_finais.csv')\n",
        "\n",
        "# Exibir as primeiras linhas do dataset para entender seu formato\n",
        "print(\"Dados originais:\")\n",
        "print(df.head())\n",
        "\n",
        "# Transformações no dataset\n",
        "\n",
        "# 1. Codificar variáveis categóricas usando LabelEncoder\n",
        "label_encoders = {}\n",
        "for column in [\"Juiz\", \"Classe Processual\", \"Comarca\", \"Decisão Tomada\"]:\n",
        "    le = LabelEncoder()\n",
        "    df[column] = le.fit_transform(df[column])\n",
        "    label_encoders[column] = le  # Guardar os encoders para decodificação futura, se necessário\n",
        "\n",
        "# 2. Converter a coluna \"Pena\" para valores numéricos (em meses)\n",
        "def convert_penalty_to_months(pena):\n",
        "    if pena == \"Nenhuma\":\n",
        "        return 0\n",
        "    elif \"anos\" in pena:\n",
        "        return int(pena.split()[0]) * 12  # Converter anos para meses\n",
        "    elif \"meses\" in pena:\n",
        "        return int(pena.split()[0])  # Manter como meses\n",
        "    return 0\n",
        "\n",
        "df[\"Pena\"] = df[\"Pena\"].apply(convert_penalty_to_months)\n",
        "\n",
        "# 3. Anonimizar a coluna \"Réu\"\n",
        "df[\"Réu\"] = df[\"Réu\"].apply(lambda x: f\"Réu_{hash(x) % 10000}\")  # Gerar identificador único para cada réu\n",
        "\n",
        "# Exibir as transformações aplicadas\n",
        "print(\"\\nDados após transformações:\")\n",
        "print(df.head())\n",
        "\n",
        "# Salvar o dataset transformado para uso posterior\n",
        "df.to_csv('decisoes_judiciais_anonimizadas.csv', index=False)\n",
        "\n",
        "df_decisoes = df.copy()"
      ],
      "metadata": {
        "id": "8hjC3n-JdvXz"
      },
      "execution_count": null,
      "outputs": []
    },
    {
      "cell_type": "code",
      "source": [
        "df_decisoes.describe().round(2)"
      ],
      "metadata": {
        "id": "AxompbPcrlQi"
      },
      "execution_count": null,
      "outputs": []
    },
    {
      "cell_type": "code",
      "source": [
        "# Aplicando Random Forest e visualizando a importância das variáveis\n",
        "label_encoders = {}\n",
        "for column in [\"Juiz\", \"Classe Processual\", \"Comarca\", \"Decisão Tomada\"]:\n",
        "    le = LabelEncoder()\n",
        "    df_decisoes[column] = le.fit_transform(df_decisoes[column])\n",
        "    label_encoders[column] = le\n",
        "\n",
        "# Definindo os dados de entrada (features) e saída (target)\n",
        "X = df_decisoes[[\"Juiz\", \"Classe Processual\", \"Comarca\", \"Pena\"]]\n",
        "y = df_decisoes[\"Decisão Tomada\"]\n",
        "\n",
        "# Dividindo os dados em conjunto de treinamento e teste\n",
        "X_train, X_test, y_train, y_test = train_test_split(X, y, test_size=0.3, random_state=42)\n",
        "\n",
        "# Criando o modelo Random Forest\n",
        "random_forest_model = RandomForestClassifier(n_estimators=100, random_state=42)\n",
        "random_forest_model.fit(X_train, y_train)\n",
        "\n",
        "# Fazendo previsões\n",
        "y_pred = random_forest_model.predict(X_test)\n",
        "\n",
        "# Avaliando a acurácia\n",
        "accuracy = accuracy_score(y_test, y_pred)\n",
        "\n",
        "# Extraindo importância das variáveis\n",
        "feature_importances = random_forest_model.feature_importances_\n",
        "features = X.columns\n",
        "\n",
        "importances_df = pd.DataFrame({\"Feature\": features, \"Importance\": feature_importances}).sort_values(by=\"Importance\", ascending=False)\n",
        "importances_df"
      ],
      "metadata": {
        "id": "vmsNJCufrLZ7"
      },
      "execution_count": null,
      "outputs": []
    },
    {
      "cell_type": "code",
      "source": [
        "# Visualizando a importância das variáveis\n",
        "plt.figure(figsize=(10, 6))\n",
        "plt.barh(importances_df['Feature'], importances_df['Importance'], color='blue')\n",
        "plt.xlabel('Importância')\n",
        "plt.title('Importância da Variável')\n",
        "plt.gca().invert_yaxis()\n",
        "plt.show()"
      ],
      "metadata": {
        "id": "mZuX5b6dye76"
      },
      "execution_count": null,
      "outputs": []
    },
    {
      "cell_type": "code",
      "source": [
        "# Plotar as árvores de decisão (apenas as primeiras 3 para demonstração)\n",
        "plt.figure(figsize=(20, 10))\n",
        "for i in range(min(3, len(random_forest_model.estimators_))):  # Limitar a 3 árvores ou o número de árvores no modelo\n",
        "    plt.subplot(1, min(3, len(random_forest_model.estimators_)), i + 1)\n",
        "    plot_tree(random_forest_model.estimators_[i], feature_names=features, filled=True, rounded=True, class_names=np.unique(y).astype(str))\n",
        "    plt.title(f\"Árvore {i+1}\")\n",
        "\n",
        "plt.tight_layout()\n",
        "plt.show()"
      ],
      "metadata": {
        "id": "EOld3_kBtqif"
      },
      "execution_count": null,
      "outputs": []
    }
  ]
}
